{
  "nbformat": 4,
  "nbformat_minor": 0,
  "metadata": {
    "colab": {
      "provenance": []
    },
    "kernelspec": {
      "name": "python3",
      "display_name": "Python 3"
    },
    "language_info": {
      "name": "python"
    }
  },
  "cells": [
    {
      "cell_type": "code",
      "execution_count": null,
      "metadata": {
        "id": "uCNfPiXLL13W"
      },
      "outputs": [],
      "source": []
    },
    {
      "cell_type": "markdown",
      "source": [
        "\n",
        "#Q1 - WHAT IS PYTHON?AND WHY IT IS SO POPULAR?\n",
        "\n",
        "ANS 1 - Python is an high level,interpreted,general-purpose programming langauage known for its readability and simplicity.It was developed by Guido van Rossum and was first released in 1991,and it is named after british comedy group monty python.\n",
        "\n",
        "Python is so popular because of its features like\n",
        "\n",
        "Versatility and wide range of applications\n",
        "\n",
        "Extensive libraries and frameworks\n",
        "\n",
        "open sporce nature\n",
        "\n",
        "integration capabilities\n",
        "\n",
        "#Q2- WHAT IS INTERPRETER IN PYTHON?\n",
        "\n",
        "ANSWER 2 - An interpreter is a computer program that execute the code directly ,translating it line by line into machine language at runtime.Unlike compilers,which translate the entire code at once,interpreter process code in real-time , enabling debugging and immediate execution\n",
        "\n",
        "#Q3-WHAT ARE PRE-DEFINED KEYWORDS IN PYTHON?\n",
        "\n",
        "Keywords are predefined, reserved words that have special meanings and cannot be used as identifiers (like variable names, function names, or class names). These keywords are essential for the syntax and structure of Python programs.\n",
        "\n",
        "#Q4- CAN KEY-WORDS BE USED AS VARIABLE NAMES?\n",
        "\n",
        "ANSWER 4 -Keywords are predefined, reserved words used in Python programming that have special meanings to the compiler. We cannot use a keyword as a variable name, function name, or any other identifier. They are used to define the syntax and structure of the Python language.\n",
        "\n",
        "#QUESTION 5- WHAT IS MUTABILITY IN PYTHON?\n",
        "\n",
        "ANSWER 5- mutable sequences are data structures that allow their contents to be modified after creation. This means you can add, remove, or change elements without creating a new object. Common examples of mutable sequences include lists, bytearrays, and custom classes.\n",
        "\n",
        "Key Characteristics of Mutable Sequences\n",
        "\n",
        "Modifiability: You can alter the contents of the sequence in place.\n",
        "\n",
        "Dynamic Size: Mutable sequences can grow or shrink dynamically.\n",
        "\n",
        "Shared References: Changes to a mutable sequence are reflected across all references to it.\n",
        "\n",
        "#QUESTION 6-Why are lists mutable, but tuples are immutable\n",
        "\n",
        "ANSWER 6-In Python, lists and tuples are both sequence data types, but they differ fundamentally in their mutability. Lists are mutable, meaning their contents can be modified after creation, while tuples are immutable, meaning their contents cannot be changed once defined. This distinction arises from their design and intended use cases. The reason why list is mutable and tuple is not mutable are:\n",
        "\n",
        "Performance: Tuples are stored in a single memory block, making them more memory-efficient and faster to iterate over compared to lists, which require additional memory for dynamic resizing.\n",
        "\n",
        "Data Integrity: Tuples provide a guarantee that their contents will remain unchanged, which is useful for ensuring data consistency in programs.\n",
        "\n",
        "Hashability: Tuples are hashable (if their elements are also hashable), allowing them to be used as keys in dictionaries or elements in sets. Lists, being mutable, cannot be hashed.\n",
        "\n",
        "#QUESTION7-What is the difference between “==” and “is” operators in Python ?\n",
        "\n",
        "ANSWER 7 - In Python, the == and is operators are both used for comparisons, but they serve distinct purposes:\n",
        "\n",
        "== Operator (Equality Operator):\n",
        "Pu Compares the values of two objects to check if they are equal. It evaluates whether the data or content of the objects is the same, regardless of whether they are stored in the same memory location. Example:a = [1, 2, 3] b = [1, 2, 3] print(a == b) # Output: True (values are the same)\n",
        "\n",
        "is Operator (Identity Operator):\n",
        "Compares the identity of two objects to check if they refer to the same memory location. It evaluates whether the two objects are actually the same object in memory. Example:a = [1, 2, 3] b = [1, 2, 3] print(a is b) # Output: False (different memory locations)\n",
        "\n",
        "Key Difference:\n",
        "\n",
        "== checks value equality. is checks reference equality (identity).\n",
        "\n",
        "#QUESTION 8-What are logical operators in Python ?\n",
        "\n",
        "ANSWER 8-Logical operators in Python are used to combine conditional statements and perform logical operations. They return a Boolean value (True or False) based on the conditions provided. Python has three logical operators:\n",
        "\n",
        "Logical AND\n",
        "Logical or\n",
        "Logical Not\n",
        "#QUESTION 9 - What is type casting in Python ?\n",
        "\n",
        "ANSWER 9 -Type casting in Python refers to the process of converting one data type into another. This can be done either implicitly (automatically by Python) or explicitly (manually by the programmer). It is often used to ensure compatibility between different data types during operations.\n",
        "\n",
        "#QUESTION 10- What is the difference between implicit and explicit type casting\n",
        "\n",
        "ANSWER 10-Implicit Type Casting\n",
        "\n",
        "Implicit type casting, also known as type coercion, occurs automatically when the compiler converts data from one type to another without explicit instructions from the programmer. This usually happens when a value of one data type is assigned to a variable of another data type, and the target type can safely represent the source value without loss of precision or data.\n",
        "\n",
        "Explicit Type Casting\n",
        "\n",
        "Explicit type casting, also known as type conversion, requires the programmer to manually convert a value from one data type to another. This is done using casting operators or functions provided by the language.\n",
        "\n",
        "#QUESTION 11-What is the purpose of conditional statements in Python ?\n",
        "\n",
        "ANSWER 11-Conditional statements in Python are used to control the flow of a program by executing specific blocks of code based on certain conditions. They allow programs to make decisions and behave differently depending on the situation.\n",
        "\n",
        "Common conditional statements in Python include:\n",
        "\n",
        "if: Executes a block of code if the condition is true. elif: Adds additional conditions to check if the previous ones are false. else: Executes a block of code if all previous conditions are false.\n",
        "\n",
        "# QUESTION 12- How does the elif statement work ?\n",
        "\n",
        "ANSWER-12\n",
        "\n",
        "The elif statement in Python allows you to check multiple conditions in a sequence, executing the block of code associated with the first true condition.\n",
        "\n",
        "syntax:\n",
        "\n",
        "if condition1:\n",
        "\n",
        "Execute this block if condition1 is true\n",
        "\n",
        "elif condition2:\n",
        "\n",
        "Execute this block if condition2 is true\n",
        "\n",
        "elif condition3:\n",
        "\n",
        "Execute this block if condition3 is true\n",
        "\n",
        "else:\n",
        "\n",
        "Execute this block if none of the above conditions are true\n",
        "\n",
        "When the program reaches an if statement, it evaluates the condition. If it is true, the corresponding block of code is executed, and the rest of the elif and else blocks are skipped.\n",
        "\n",
        "if first condition is false, the program checks the next elif condition. If that condition is true, its block of code is executed, and the remaining conditions are ignored.\n",
        "\n",
        "If none of the if or elif conditions are true, the code in the else block (if present) will be executed.\n",
        "\n",
        "# QUESTION 13- What is the difference between for and while loops?\n",
        "\n",
        "ANSWER 13-For Loop A for loop is used when the number of iterations is known beforehand or when iterating over a sequence like a list, tuple, or range. It automatically handles initialization, condition checking, and updating within its structure. For example:\n",
        "\n",
        "Print numbers from 0 to 4\n",
        "\n",
        "for i in range(5):\n",
        "\n",
        "print(i)\n",
        "\n",
        "This loop iterates over the range object, printing numbers from 0 to 4. It is concise and ideal for iterating over iterable objects.\n",
        "\n",
        "While Loop A while loop is used when the number of iterations is not known in advance and depends on a condition. It continues executing as long as the condition is True. For example:\n",
        "\n",
        "Print numbers from 0 to 4\n",
        "\n",
        "count = 0\n",
        "\n",
        "while count < 5:\n",
        "\n",
        "print(count)\n",
        "\n",
        "count += 1\n",
        "\n",
        "Here, the loop runs until the condition count < 5 becomes False. It requires explicit initialization and updating of variables.\n",
        "\n",
        "# QUESTION 14- Describe a scenario where a while loop is more suitable than a for loop?\n",
        "\n",
        "ANSWER 14-\n",
        "\n",
        "A while loop is particularly useful in scenarios where the number of iterations is not predetermined and depends on a condition being met during runtime. Unlike a for loop, which is ideal for iterating over a fixed range or sequence, a while loop provides flexibility for dynamic conditions.\n",
        "\n",
        "Example Scenario: Waiting for User Input\n",
        "\n",
        "common use case is waiting for user input or a specific event. For instance, you might want to keep prompting the user until they enter a valid response.\n",
        "\n",
        "Example: Waiting for valid user input\n",
        "user_input = \"\"\n",
        "\n",
        "while user_input.lower() != \"exit\":\n",
        "\n",
        "user_input = input(\"Enter a command (type 'exit' to quit): \")\n",
        "\n",
        "print(f\"You entered: {user_input}\")\n",
        "\n",
        "Here, the loop continues until the user types \"exit\". A for loop would not be appropriate because the number of iterations depends on the user's actions.\n",
        "\n",
        "\n",
        "\n",
        "\n",
        "\n",
        "\n",
        "     \n"
      ],
      "metadata": {
        "id": "rXulpcoaMW1z"
      }
    },
    {
      "cell_type": "markdown",
      "source": [
        "# **PRACTICAL** **QUESTION**"
      ],
      "metadata": {
        "id": "05-dchirQmKN"
      }
    },
    {
      "cell_type": "markdown",
      "source": [
        "# QUESTION1 - Write a Python program to print \"Hello, World!"
      ],
      "metadata": {
        "id": "NDCLhn6RQsn_"
      }
    },
    {
      "cell_type": "code",
      "source": [
        "print(\"Hello,World!\")\n"
      ],
      "metadata": {
        "colab": {
          "base_uri": "https://localhost:8080/"
        },
        "id": "tCOa0Tf0TUgn",
        "outputId": "9147ba16-e312-4074-a586-6d4aff3c802a"
      },
      "execution_count": 23,
      "outputs": [
        {
          "output_type": "stream",
          "name": "stdout",
          "text": [
            "Hello,World!\n"
          ]
        }
      ]
    },
    {
      "cell_type": "markdown",
      "source": [
        " # Question 2- Write a Python program that displays your name and age"
      ],
      "metadata": {
        "id": "IdVfB13bMIA4"
      }
    },
    {
      "cell_type": "code",
      "source": [
        "age=input(\"enter your age\")\n",
        "name=input(\"enter your name\")\n",
        "print(f\"my name is {name} and my age is {age}\")"
      ],
      "metadata": {
        "colab": {
          "base_uri": "https://localhost:8080/"
        },
        "id": "UlB5OBVYUbOb",
        "outputId": "5ea0ce7b-633c-4930-b5a8-9d7d1ab86efd"
      },
      "execution_count": 22,
      "outputs": [
        {
          "output_type": "stream",
          "name": "stdout",
          "text": [
            "enter your age21\n",
            "enter your namesacchi\n",
            "my name is sacchi and my age is 21\n"
          ]
        }
      ]
    },
    {
      "cell_type": "markdown",
      "source": [
        "# QUESTION 3 -Write code to print all the pre-defined keywords in Python using the keyword library."
      ],
      "metadata": {
        "id": "A6FV-AwoUfRi"
      }
    },
    {
      "cell_type": "code",
      "source": [
        "import keyword\n",
        "\n",
        "print(keyword.kwlist)"
      ],
      "metadata": {
        "colab": {
          "base_uri": "https://localhost:8080/"
        },
        "id": "YQkV29f2UnMT",
        "outputId": "8c872d90-55bb-4a04-d10f-7a51741480b2"
      },
      "execution_count": 3,
      "outputs": [
        {
          "output_type": "stream",
          "name": "stdout",
          "text": [
            "['False', 'None', 'True', 'and', 'as', 'assert', 'async', 'await', 'break', 'class', 'continue', 'def', 'del', 'elif', 'else', 'except', 'finally', 'for', 'from', 'global', 'if', 'import', 'in', 'is', 'lambda', 'nonlocal', 'not', 'or', 'pass', 'raise', 'return', 'try', 'while', 'with', 'yield']\n"
          ]
        }
      ]
    },
    {
      "cell_type": "markdown",
      "source": [
        "# QUESTION 4- Write a program that checks if a given word is a Python keyword."
      ],
      "metadata": {
        "id": "ONw6OeJ1Uwaj"
      }
    },
    {
      "cell_type": "code",
      "source": [
        "import keyword\n",
        "\n",
        "word = input(\"Enter the word to check it is a keywpord or not : \")\n",
        "\n",
        "if word in keyword.kwlist:\n",
        "  print(f\"{word} is a Python keyword.\")\n",
        "else:\n",
        "  print(f\"{word} is not a Python keyword.\")"
      ],
      "metadata": {
        "colab": {
          "base_uri": "https://localhost:8080/"
        },
        "id": "RaZ-1P_nXlVc",
        "outputId": "2ac5d2df-37a6-4c32-a25c-d504b98203d6"
      },
      "execution_count": 21,
      "outputs": [
        {
          "output_type": "stream",
          "name": "stdout",
          "text": [
            "Enter the word to check it is a keywpord or not : else\n",
            "else is a Python keyword.\n"
          ]
        }
      ]
    },
    {
      "cell_type": "markdown",
      "source": [
        "QUESTION 5 - Create a list and tuple in Python, and demonstrate how attempting to change an element works differently for each.\n"
      ],
      "metadata": {
        "id": "XNpfsPqHX0RW"
      }
    },
    {
      "cell_type": "code",
      "source": [
        "list=[\"vini\",\"arun\",\"sahil\",\"vishal\"]\n",
        "tuple=(\"nitu\",\"abhi\",\"reema\",\"gagan\")\n",
        "list[0]=(\"rishu\")\n",
        "print(list)\n",
        "tuple[0]=[\"rishu\"]\n",
        "print(tuple)\n",
        ""
      ],
      "metadata": {
        "colab": {
          "base_uri": "https://localhost:8080/",
          "height": 228
        },
        "id": "FD2iY_wfYY0I",
        "outputId": "9af6291e-f958-4fbd-cfd9-f9a1eebe5ad2"
      },
      "execution_count": 20,
      "outputs": [
        {
          "output_type": "stream",
          "name": "stdout",
          "text": [
            "['rishu', 'arun', 'sahil', 'vishal']\n"
          ]
        },
        {
          "output_type": "error",
          "ename": "TypeError",
          "evalue": "'tuple' object does not support item assignment",
          "traceback": [
            "\u001b[0;31m---------------------------------------------------------------------------\u001b[0m",
            "\u001b[0;31mTypeError\u001b[0m                                 Traceback (most recent call last)",
            "\u001b[0;32m/tmp/ipython-input-1566794693.py\u001b[0m in \u001b[0;36m<cell line: 0>\u001b[0;34m()\u001b[0m\n\u001b[1;32m      3\u001b[0m \u001b[0mlist\u001b[0m\u001b[0;34m[\u001b[0m\u001b[0;36m0\u001b[0m\u001b[0;34m]\u001b[0m\u001b[0;34m=\u001b[0m\u001b[0;34m(\u001b[0m\u001b[0;34m\"rishu\"\u001b[0m\u001b[0;34m)\u001b[0m\u001b[0;34m\u001b[0m\u001b[0;34m\u001b[0m\u001b[0m\n\u001b[1;32m      4\u001b[0m \u001b[0mprint\u001b[0m\u001b[0;34m(\u001b[0m\u001b[0mlist\u001b[0m\u001b[0;34m)\u001b[0m\u001b[0;34m\u001b[0m\u001b[0;34m\u001b[0m\u001b[0m\n\u001b[0;32m----> 5\u001b[0;31m \u001b[0mtuple\u001b[0m\u001b[0;34m[\u001b[0m\u001b[0;36m0\u001b[0m\u001b[0;34m]\u001b[0m\u001b[0;34m=\u001b[0m\u001b[0;34m[\u001b[0m\u001b[0;34m\"rishu\"\u001b[0m\u001b[0;34m]\u001b[0m\u001b[0;34m\u001b[0m\u001b[0;34m\u001b[0m\u001b[0m\n\u001b[0m\u001b[1;32m      6\u001b[0m \u001b[0mprint\u001b[0m\u001b[0;34m(\u001b[0m\u001b[0mtuple\u001b[0m\u001b[0;34m)\u001b[0m\u001b[0;34m\u001b[0m\u001b[0;34m\u001b[0m\u001b[0m\n\u001b[1;32m      7\u001b[0m \u001b[0;34m\u001b[0m\u001b[0m\n",
            "\u001b[0;31mTypeError\u001b[0m: 'tuple' object does not support item assignment"
          ]
        }
      ]
    },
    {
      "cell_type": "markdown",
      "source": [
        "QUESTION 6- Write a function to demonstrate the behavior of mutable and immutable arguments\n"
      ],
      "metadata": {
        "id": "nmT80ZyFYpR4"
      }
    },
    {
      "cell_type": "code",
      "source": [
        "list=[\"sacchi\",\"rohit\",\"gullu\",\"manshi\"]\n",
        "tuple=(1,2,3,4,5)\n",
        "list[0]=(\"vinita\")\n",
        "print(list)\n",
        "\n",
        "tuple[0]= [5]\n",
        "\n",
        "print(tuple)\n"
      ],
      "metadata": {
        "colab": {
          "base_uri": "https://localhost:8080/",
          "height": 228
        },
        "id": "G-_HytUYYzo7",
        "outputId": "f0ac8322-3b20-4afd-b9b8-54c7988bed49"
      },
      "execution_count": 19,
      "outputs": [
        {
          "output_type": "stream",
          "name": "stdout",
          "text": [
            "['vinita', 'rohit', 'gullu', 'manshi']\n"
          ]
        },
        {
          "output_type": "error",
          "ename": "TypeError",
          "evalue": "'tuple' object does not support item assignment",
          "traceback": [
            "\u001b[0;31m---------------------------------------------------------------------------\u001b[0m",
            "\u001b[0;31mTypeError\u001b[0m                                 Traceback (most recent call last)",
            "\u001b[0;32m/tmp/ipython-input-1601805471.py\u001b[0m in \u001b[0;36m<cell line: 0>\u001b[0;34m()\u001b[0m\n\u001b[1;32m      4\u001b[0m \u001b[0mprint\u001b[0m\u001b[0;34m(\u001b[0m\u001b[0mlist\u001b[0m\u001b[0;34m)\u001b[0m\u001b[0;34m\u001b[0m\u001b[0;34m\u001b[0m\u001b[0m\n\u001b[1;32m      5\u001b[0m \u001b[0;34m\u001b[0m\u001b[0m\n\u001b[0;32m----> 6\u001b[0;31m \u001b[0mtuple\u001b[0m\u001b[0;34m[\u001b[0m\u001b[0;36m0\u001b[0m\u001b[0;34m]\u001b[0m\u001b[0;34m=\u001b[0m \u001b[0;34m[\u001b[0m\u001b[0;36m5\u001b[0m\u001b[0;34m]\u001b[0m\u001b[0;34m\u001b[0m\u001b[0;34m\u001b[0m\u001b[0m\n\u001b[0m\u001b[1;32m      7\u001b[0m \u001b[0;34m\u001b[0m\u001b[0m\n\u001b[1;32m      8\u001b[0m \u001b[0mprint\u001b[0m\u001b[0;34m(\u001b[0m\u001b[0mtuple\u001b[0m\u001b[0;34m)\u001b[0m\u001b[0;34m\u001b[0m\u001b[0;34m\u001b[0m\u001b[0m\n",
            "\u001b[0;31mTypeError\u001b[0m: 'tuple' object does not support item assignment"
          ]
        }
      ]
    },
    {
      "cell_type": "markdown",
      "source": [
        "QUESTION 7- Write a program that performs basic arithmetic operations on two user-input numbers.\n"
      ],
      "metadata": {
        "id": "XUJ9qpAXZU_L"
      }
    },
    {
      "cell_type": "code",
      "source": [
        "num1=int(input(\"enter the first number\"))\n",
        "num2=int(input(\"enter the second number\"))\n",
        "addition=int(num1+num2)\n",
        "sub=int(num1-num2)\n",
        "multiply=int(num1*num2)\n",
        "division=int(num1/num2)\n",
        "print(f\"addition is {addition}\")\n",
        "print(f\"sub is {sub}\")\n",
        "print(f\"multiplication is {multiply}\")\n",
        "print(f\"division is {division}\")\n"
      ],
      "metadata": {
        "colab": {
          "base_uri": "https://localhost:8080/"
        },
        "id": "aEnmVrBtZmf7",
        "outputId": "9c2e4628-d394-4f67-c38a-d32532da855c"
      },
      "execution_count": 9,
      "outputs": [
        {
          "output_type": "stream",
          "name": "stdout",
          "text": [
            "enter the first number10\n",
            "enter the second number20\n",
            "addition is 30\n",
            "sub is -10\n",
            "multiplication is 200\n",
            "division is 0\n"
          ]
        }
      ]
    },
    {
      "cell_type": "markdown",
      "source": [
        "QUESTION 8- Write a program to demonstrate the use of logical operators.\n"
      ],
      "metadata": {
        "id": "DTkyAJKHZuer"
      }
    },
    {
      "cell_type": "code",
      "source": [
        "# AND\n",
        "num1 = 10\n",
        "num2 = 2\n",
        "\n",
        "if num1 > num2 and num1 / num2 > 1: # Both  must be True\n",
        "  print(f\"{num1} is greater than {num2} AND {num1} divided by {num2} is greater than 1.\")\n",
        "else:\n",
        "  print(f\"At least one condition for AND is False.\")\n",
        "\n",
        "#  OR\n",
        "\n",
        "if num1 < num2 or num1 + num2 > 10: #  one condition must be True\n",
        "  print(f\"{num1} is less than {num2} OR {num1} plus {num2} is greater than 10.\")\n",
        "else:\n",
        "  print(f\"Both conditions for OR are False.\")\n",
        "\n",
        "#  NOT\n",
        "\n",
        "is_positive = num1 > 0\n",
        "print(f\"Is {num1} positive? {is_positive}\")\n",
        "print(f\"Is {num1} NOT positive? {not is_positive}\")\n",
        "\n",
        "is_equal_to_5 = num1 == 5\n",
        "print(f\"Is {num1} equal to 5? {is_equal_to_5}\")\n",
        "print(f\"Is {num1} NOT equal to 5? {not is_equal_to_5}\") # Reverses the boolean value\n",
        ""
      ],
      "metadata": {
        "colab": {
          "base_uri": "https://localhost:8080/"
        },
        "id": "r0apvyYDZ7k8",
        "outputId": "9934997b-44f0-4194-a8b7-910feb980c41"
      },
      "execution_count": 10,
      "outputs": [
        {
          "output_type": "stream",
          "name": "stdout",
          "text": [
            "10 is greater than 2 AND 10 divided by 2 is greater than 1.\n",
            "10 is less than 2 OR 10 plus 2 is greater than 10.\n",
            "Is 10 positive? True\n",
            "Is 10 NOT positive? False\n",
            "Is 10 equal to 5? False\n",
            "Is 10 NOT equal to 5? True\n"
          ]
        }
      ]
    },
    {
      "cell_type": "markdown",
      "source": [
        "Question 9 - Write a Python program to convert user input from string to integer, float, and boolean types.\n"
      ],
      "metadata": {
        "id": "TD6MRJGUabQX"
      }
    },
    {
      "cell_type": "code",
      "source": [
        "input_str = input(\"Enter a VALUE: \")\n",
        "input_int=int(input_str)\n",
        "print(f\"Converted to Integer: {input_int} (Type: {type(input_int)})\")\n",
        "input_float = float(input_str)\n",
        "print(f\"Converted to Float: {input_float} (Type: {type(input_float)})\")\n",
        "input_bool = bool(input_str)\n",
        "print(f\"Converted to Boolean: {input_bool} (Type: {type(input_bool)})\")\n"
      ],
      "metadata": {
        "colab": {
          "base_uri": "https://localhost:8080/"
        },
        "id": "q9Poajc3atZn",
        "outputId": "a1ee436a-8d3e-4ad6-f7f6-af28514d0e8f"
      },
      "execution_count": 11,
      "outputs": [
        {
          "output_type": "stream",
          "name": "stdout",
          "text": [
            "Enter a VALUE: 50\n",
            "Converted to Integer: 50 (Type: <class 'int'>)\n",
            "Converted to Float: 50.0 (Type: <class 'float'>)\n",
            "Converted to Boolean: True (Type: <class 'bool'>)\n"
          ]
        }
      ]
    },
    {
      "cell_type": "markdown",
      "source": [
        "QUESTION 10- Write code to demonstrate type casting with list elements.\n"
      ],
      "metadata": {
        "id": "wD93_Atha3T7"
      }
    },
    {
      "cell_type": "code",
      "source": [
        "my_list = [\"123\", \"123.5\", \"True\", \"hello\", 10, 91.6]\n",
        "\n",
        "print(f\"list: {my_list}\")\n",
        "print(\"Types of  elements:\")\n",
        "for item in my_list:\n",
        "    print(f\" {item}: {type(item)}\")\n",
        "\n",
        "print(\"\\nDemonstrating type casting with list elements:\")"
      ],
      "metadata": {
        "colab": {
          "base_uri": "https://localhost:8080/"
        },
        "id": "qW1bzV4Ha8NT",
        "outputId": "6ba22798-ab2f-4430-97dc-f85826b1f0e8"
      },
      "execution_count": 12,
      "outputs": [
        {
          "output_type": "stream",
          "name": "stdout",
          "text": [
            "list: ['123', '123.5', 'True', 'hello', 10, 91.6]\n",
            "Types of  elements:\n",
            " 123: <class 'str'>\n",
            " 123.5: <class 'str'>\n",
            " True: <class 'str'>\n",
            " hello: <class 'str'>\n",
            " 10: <class 'int'>\n",
            " 91.6: <class 'float'>\n",
            "\n",
            "Demonstrating type casting with list elements:\n"
          ]
        }
      ]
    },
    {
      "cell_type": "markdown",
      "source": [
        "QUESTION 11- Write a program that checks if a number is positive, negative, or zero.\n"
      ],
      "metadata": {
        "id": "LGPbTWnNbTib"
      }
    },
    {
      "cell_type": "code",
      "source": [
        "num1=int(input(\"enter the number\"))\n",
        "if num1>0:\n",
        "  print(f\"{num1} is positive\")\n",
        "elif num1<0:\n",
        "  print(f\"{num1} is negative\")\n",
        "else:\n",
        "  print(f\"{num1} is zero\")"
      ],
      "metadata": {
        "colab": {
          "base_uri": "https://localhost:8080/"
        },
        "id": "tYTcF_J7bVRR",
        "outputId": "c2d1cb0b-4f6c-412a-fc62-1fd786bc8307"
      },
      "execution_count": 13,
      "outputs": [
        {
          "output_type": "stream",
          "name": "stdout",
          "text": [
            "enter the number10\n",
            "10 is positive\n"
          ]
        }
      ]
    },
    {
      "cell_type": "markdown",
      "source": [
        "QUESTION 12- Write a for loop to print numbers from 1 to 10.\n"
      ],
      "metadata": {
        "id": "vsYVxbpgbhvL"
      }
    },
    {
      "cell_type": "code",
      "source": [
        "for i in range(1, 11):\n",
        "  print(i)"
      ],
      "metadata": {
        "colab": {
          "base_uri": "https://localhost:8080/"
        },
        "id": "_jpG1Jh2bnu7",
        "outputId": "8c4b193d-1b3a-473d-96ae-de4b24796eef"
      },
      "execution_count": 15,
      "outputs": [
        {
          "output_type": "stream",
          "name": "stdout",
          "text": [
            "1\n",
            "2\n",
            "3\n",
            "4\n",
            "5\n",
            "6\n",
            "7\n",
            "8\n",
            "9\n",
            "10\n"
          ]
        }
      ]
    },
    {
      "cell_type": "markdown",
      "source": [
        "QUESTION 13- . Write a Python program to find the sum of all even numbers between 1 and 50"
      ],
      "metadata": {
        "id": "Xv27NX0Fb0VJ"
      }
    },
    {
      "cell_type": "code",
      "source": [
        "for i in range(2,51,2):\n",
        "  print(i)"
      ],
      "metadata": {
        "colab": {
          "base_uri": "https://localhost:8080/"
        },
        "id": "fQVuwkAIb5Mb",
        "outputId": "f1931d9c-e8a9-44b9-8bf7-b2306dd67eff"
      },
      "execution_count": 16,
      "outputs": [
        {
          "output_type": "stream",
          "name": "stdout",
          "text": [
            "2\n",
            "4\n",
            "6\n",
            "8\n",
            "10\n",
            "12\n",
            "14\n",
            "16\n",
            "18\n",
            "20\n",
            "22\n",
            "24\n",
            "26\n",
            "28\n",
            "30\n",
            "32\n",
            "34\n",
            "36\n",
            "38\n",
            "40\n",
            "42\n",
            "44\n",
            "46\n",
            "48\n",
            "50\n"
          ]
        }
      ]
    },
    {
      "cell_type": "markdown",
      "source": [
        "QUESTION 14. Write a program to reverse a string using a while loop."
      ],
      "metadata": {
        "id": "84Fby2QPcSA9"
      }
    },
    {
      "cell_type": "code",
      "source": [
        "input_string = input(\"Enter a string to reverse: \")\n",
        "reversed_string = \"\"\n",
        "index = len(input_string) - 1\n",
        "while index >= 0:\n",
        "  reversed_string += input_string[index]\n",
        "  index -= 1\n",
        "print(\"Reversed string:\", reversed_string)\n",
        ""
      ],
      "metadata": {
        "colab": {
          "base_uri": "https://localhost:8080/"
        },
        "id": "ZougIwE1cTXw",
        "outputId": "8e33f38e-6ee2-4bec-f0b5-4d4f63d31cc6"
      },
      "execution_count": 17,
      "outputs": [
        {
          "output_type": "stream",
          "name": "stdout",
          "text": [
            "Enter a string to reverse: sacchi\n",
            "Reversed string: ihccas\n"
          ]
        }
      ]
    },
    {
      "cell_type": "markdown",
      "source": [
        "QUESTION15. Write a Python program to calculate the factorial of a number provided by the user using a while loop"
      ],
      "metadata": {
        "id": "d3w6nD7mdFLw"
      }
    },
    {
      "cell_type": "code",
      "source": [
        "input_number = input(\"enter a number to calculate its factorial\")\n",
        "number = int(input_number)\n",
        "factorial = 1\n",
        "current = 1\n",
        "while current <= number:\n",
        "  factorial *= current\n",
        "  current += 1\n",
        "print(f\"The factorial of {number} is {factorial}\")\n"
      ],
      "metadata": {
        "colab": {
          "base_uri": "https://localhost:8080/"
        },
        "id": "bP9tCWvodK8z",
        "outputId": "6b846b8a-47c0-4e7e-e90a-247d31fd1e2b"
      },
      "execution_count": 18,
      "outputs": [
        {
          "output_type": "stream",
          "name": "stdout",
          "text": [
            "enter a number to calculate its factorial15\n",
            "The factorial of 15 is 1307674368000\n"
          ]
        }
      ]
    }
  ]
}